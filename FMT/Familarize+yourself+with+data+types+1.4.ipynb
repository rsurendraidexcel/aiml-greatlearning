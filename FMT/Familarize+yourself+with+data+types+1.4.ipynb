{
  "nbformat": 4,
  "nbformat_minor": 0,
  "metadata": {
    "colab": {
      "provenance": []
    },
    "kernelspec": {
      "name": "python3",
      "display_name": "Python 3"
    },
    "language_info": {
      "name": "python"
    }
  },
  "cells": [
    {
      "cell_type": "markdown",
      "source": [
        "Create a short program asking a user how many siblings they have, and what their names are.  See if you can display the results."
      ],
      "metadata": {
        "id": "YMRGuvTA9ubY"
      }
    },
    {
      "cell_type": "code",
      "execution_count": 1,
      "metadata": {
        "colab": {
          "base_uri": "https://localhost:8080/"
        },
        "id": "OzFqRmhB9m-5",
        "outputId": "bce1a38f-954b-4552-e322-93db5ff01d18"
      },
      "outputs": [
        {
          "output_type": "stream",
          "name": "stdout",
          "text": [
            "How many siblings do you have? 2\n",
            "Enter the name of sibling 1: Ram\n",
            "Enter the name of sibling 2: Ganesh\n",
            "\n",
            "You have 2 sibling(s). Their names:\n",
            "Sibling 1: Ram\n",
            "Sibling 2: Ganesh\n"
          ]
        }
      ],
      "source": [
        "def main():\n",
        "    num_siblings = int(input(\"How many siblings do you have? \"))\n",
        "\n",
        "    siblings = []\n",
        "    for i in range(num_siblings):\n",
        "        sibling_name = input(f\"Enter the name of sibling {i+1}: \")\n",
        "        siblings.append(sibling_name)\n",
        "\n",
        "    print(\"\\nYou have\", num_siblings, \"sibling(s). Their names:\")\n",
        "    for i, sibling_name in enumerate(siblings):\n",
        "        print(f\"Sibling {i+1}: {sibling_name}\")\n",
        "\n",
        "if __name__ == \"__main__\":\n",
        "    main()"
      ]
    }
  ]
}